{
 "cells": [
  {
   "cell_type": "code",
   "execution_count": null,
   "id": "086bc976",
   "metadata": {},
   "outputs": [],
   "source": [
    "from spark_init import create_spark_session"
   ]
  },
  {
   "cell_type": "code",
   "execution_count": null,
   "id": "12804804-38fc-4dbf-b5f2-71bb9f9af207",
   "metadata": {},
   "outputs": [],
   "source": [
    "# Testing Local Databricks Stack\n",
    "# This script demonstrates the integration of all components in our local Databricks-like environment.\n",
    "\n",
    "# Import required libraries\n",
    "from pyspark.sql import SparkSession\n",
    "# import mlflow\n",
    "# import mlflow.spark\n",
    "from delta import *\n",
    "# import pandas as pd\n",
    "# import polars as pl\n",
    "# import numpy as np\n",
    "# from sklearn.model_selection import train_test_split\n",
    "# from sklearn.ensemble import RandomForestRegressor"
   ]
  },
  {
   "cell_type": "code",
   "execution_count": null,
   "id": "d2991f55",
   "metadata": {},
   "outputs": [],
   "source": [
    "spark = create_spark_session()\n",
    "\n",
    "print(\"Spark session created successfully!\")\n",
    "print(f\"Spark version: {spark.version}\")"
   ]
  },
  {
   "cell_type": "code",
   "execution_count": null,
   "id": "513591a1-451d-4f9f-ace3-864096505b7f",
   "metadata": {},
   "outputs": [],
   "source": [
    "# Create sample data\n",
    "data = [(1, \"test1\"), (2, \"test2\"), (3, \"test3\")]\n",
    "df = spark.createDataFrame(data, [\"id\", \"value\"])"
   ]
  },
  {
   "cell_type": "code",
   "execution_count": null,
   "id": "2bdf1dfa-16d2-4a99-b70d-88d8d251694a",
   "metadata": {},
   "outputs": [],
   "source": [
    "df.count()"
   ]
  },
  {
   "cell_type": "code",
   "execution_count": null,
   "id": "4aa11b9e-a2ee-489a-add5-5e59e4695ce3",
   "metadata": {},
   "outputs": [],
   "source": [
    "# Test Delta Lake\n",
    "# Create sample data\n",
    "data = [(1, \"test1\"), (2, \"test2\"), (3, \"test3\")]\n",
    "df = spark.createDataFrame(data, [\"id\", \"value\"])\n",
    "\n",
    "# Write to Delta Lake format in MinIO\n",
    "# df.write.format(\"delta\").mode(\"overwrite\").save(\"s3a://delta/test-table\")\n",
    "df.write.mode(\"overwrite\").save(\"s3a://delta/test-table\")\n",
    "\n",
    "# Read from Delta Lake\n",
    "# df_read = spark.read.format(\"delta\").load(\"s3a://delta/test-table\")\n",
    "df_read = spark.read.load(\"s3a://delta/test-table\")\n",
    "df_read.show()"
   ]
  },
  {
   "cell_type": "code",
   "execution_count": null,
   "id": "dfdcdcba-94b5-4f3c-9d1a-973c6165f3de",
   "metadata": {},
   "outputs": [],
   "source": [
    "# Test MLflow integration\n",
    "# Create sample ML model\n",
    "mlflow.set_experiment(\"test-experiment\")\n",
    "\n",
    "with mlflow.start_run():\n",
    "    # Generate sample data\n",
    "    X = np.random.rand(100, 4)\n",
    "    y = np.random.rand(100)\n",
    "    \n",
    "    # Train a model\n",
    "    model = RandomForestRegressor(n_estimators=100)\n",
    "    model.fit(X, y)\n",
    "    \n",
    "    # Log parameters and model\n",
    "    mlflow.log_param(\"n_estimators\", 100)\n",
    "    mlflow.sklearn.log_model(model, \"model\")"
   ]
  },
  {
   "cell_type": "code",
   "execution_count": null,
   "id": "3ae42cf7-028c-4d87-b460-d3e4a1d99541",
   "metadata": {},
   "outputs": [],
   "source": [
    "# Test SQL Magic\n",
    "query = \"SELECT * FROM delta.`s3a://delta/test-table`\"\n",
    "spark.sql(query).show()"
   ]
  },
  {
   "cell_type": "code",
   "execution_count": null,
   "id": "c1dcc14e-286b-44cf-93f8-e9384af0e07d",
   "metadata": {},
   "outputs": [],
   "source": [
    "# Test Polars integration\n",
    "# Convert Spark DataFrame to Polars\n",
    "pandas_df = df_read.toPandas()\n",
    "polars_df = pl.from_pandas(pandas_df)\n",
    "print(\"Polars DataFrame:\")\n",
    "print(polars_df)"
   ]
  },
  {
   "cell_type": "code",
   "execution_count": null,
   "id": "d7a3c9d7-6cb1-4c42-8063-a81e7baa3379",
   "metadata": {},
   "outputs": [],
   "source": [
    "spark.stop()"
   ]
  },
  {
   "cell_type": "code",
   "execution_count": null,
   "id": "322cbf9c-46d4-4a10-bc68-7502ea46d321",
   "metadata": {},
   "outputs": [],
   "source": []
  }
 ],
 "metadata": {
  "kernelspec": {
   "display_name": "Python 3 (ipykernel)",
   "language": "python",
   "name": "python3"
  },
  "language_info": {
   "codemirror_mode": {
    "name": "ipython",
    "version": 3
   },
   "file_extension": ".py",
   "mimetype": "text/x-python",
   "name": "python",
   "nbconvert_exporter": "python",
   "pygments_lexer": "ipython3",
   "version": "3.11.6"
  }
 },
 "nbformat": 4,
 "nbformat_minor": 5
}
