{
 "cells": [
  {
   "cell_type": "code",
   "execution_count": null,
   "id": "1baa6b39-20c0-4216-a4e5-82f81093ce78",
   "metadata": {},
   "outputs": [],
   "source": [
    "from pyspark.sql import SparkSession"
   ]
  },
  {
   "cell_type": "code",
   "execution_count": null,
   "id": "42d23b02-4709-4b2f-97a9-11e30c8ee038",
   "metadata": {},
   "outputs": [],
   "source": [
    "# Initialize Spark Session with Delta Lake\n",
    "spark = SparkSession.builder \\\n",
    "    .appName(\"LocalDatabricksTest\") \\\n",
    "    .getOrCreate()"
   ]
  },
  {
   "cell_type": "code",
   "execution_count": null,
   "id": "513591a1-451d-4f9f-ace3-864096505b7f",
   "metadata": {},
   "outputs": [],
   "source": [
    "# Create sample data\n",
    "data = [(1, \"test1\"), (2, \"test2\"), (3, \"test3\")]\n",
    "df = spark.createDataFrame(data, [\"id\", \"value\"])"
   ]
  },
  {
   "cell_type": "code",
   "execution_count": null,
   "id": "2bdf1dfa-16d2-4a99-b70d-88d8d251694a",
   "metadata": {},
   "outputs": [],
   "source": [
    "df.count()"
   ]
  },
  {
   "cell_type": "code",
   "execution_count": null,
   "id": "d7a3c9d7-6cb1-4c42-8063-a81e7baa3379",
   "metadata": {},
   "outputs": [],
   "source": [
    "spark.stop()"
   ]
  }
 ],
 "metadata": {
  "kernelspec": {
   "display_name": "Python 3 (ipykernel)",
   "language": "python",
   "name": "python3"
  },
  "language_info": {
   "codemirror_mode": {
    "name": "ipython",
    "version": 3
   },
   "file_extension": ".py",
   "mimetype": "text/x-python",
   "name": "python",
   "nbconvert_exporter": "python",
   "pygments_lexer": "ipython3",
   "version": "3.11.6"
  }
 },
 "nbformat": 4,
 "nbformat_minor": 5
}
