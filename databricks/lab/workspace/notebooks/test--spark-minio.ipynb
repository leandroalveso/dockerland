{
 "cells": [
  {
   "cell_type": "code",
   "execution_count": null,
   "id": "1762dc74-3524-49dd-ae03-586ecf287359",
   "metadata": {},
   "outputs": [],
   "source": [
    "from pyspark.sql import SparkSession\n",
    "from pyspark.sql.functions import *\n",
    "import random\n",
    "from datetime import datetime, timedelta"
   ]
  },
  {
   "cell_type": "code",
   "execution_count": null,
   "id": "941273b0-eefd-4305-bb69-9fcbb843e8e5",
   "metadata": {},
   "outputs": [],
   "source": [
    "spark = SparkSession.builder \\\n",
    "    .appName(\"MinIO-Test\") \\\n",
    "    .master(\"spark://spark-master:7077\") \\\n",
    "    .config(\"spark.hadoop.fs.s3a.endpoint\", \"http://minio:9000\") \\\n",
    "    .config(\"spark.hadoop.fs.s3a.access.key\", \"admin*12345\") \\\n",
    "    .config(\"spark.hadoop.fs.s3a.secret.key\", \"psswrd*12345\") \\\n",
    "    .config(\"spark.hadoop.fs.s3a.path.style.access\", True) \\\n",
    "    .config(\"spark.hadoop.fs.s3a.impl\", \"org.apache.hadoop.fs.s3a.S3AFileSystem\") \\\n",
    "    .config(\"spark.driver.memory\", \"4g\") \\\n",
    "    .config(\"spark.executor.memory\", \"4g\") \\\n",
    "    .config(\"spark.cores.max\", \"2\") \\\n",
    "    .config(\"spark.driver.maxResultSize\", \"4g\") \\\n",
    "    .getOrCreate()\n",
    "    # .config(\"spark.sql.extensions\", \"io.delta.sql.DeltaSparkSessionExtension\") \\\n",
    "    # .config(\"spark.sql.catalog.spark_catalog\", \"org.apache.spark.sql.delta.catalog.DeltaCatalog\") \\\n"
   ]
  },
  {
   "cell_type": "code",
   "execution_count": null,
   "id": "9df7f5cb-ffd8-45f9-967d-161060f4c739",
   "metadata": {},
   "outputs": [],
   "source": [
    "spark.version\n",
    "\n",
    "sc = spark.sparkContext\n",
    "\n",
    "# Get cluster status details\n",
    "print(f\"Master URL: {sc.master}\")\n",
    "print(f\"Application ID: {sc.applicationId}\")\n",
    "print(f\"Spark UI: {sc.uiWebUrl}\")"
   ]
  },
  {
   "cell_type": "code",
   "execution_count": null,
   "id": "eb765075-db2b-42e9-8938-d028c54f2539",
   "metadata": {},
   "outputs": [],
   "source": [
    "def generate_test_data(num_records=100):\n",
    "    data = []\n",
    "    start_date = datetime(2024, 1, 1)\n",
    "    \n",
    "    for i in range(num_records):\n",
    "        date = start_date + timedelta(days=i % 365)\n",
    "        data.append({\n",
    "            'id': i,\n",
    "            'date': date.strftime('%Y-%m-%d'),\n",
    "            'value': random.uniform(1, 1000),\n",
    "            'category': random.choice(['A', 'B', 'C', 'D']),\n",
    "            'quantity': random.randint(1, 100)\n",
    "        })\n",
    "    \n",
    "    return data\n",
    "\n",
    "test_data = generate_test_data()\n",
    "print(test_data)"
   ]
  },
  {
   "cell_type": "code",
   "execution_count": null,
   "id": "b7b0b897-611d-470c-8535-0ce5abd69abe",
   "metadata": {},
   "outputs": [],
   "source": [
    "# Generate test DataFrame\n",
    "test_df = spark.createDataFrame(test_data)\n",
    "test_df.show(5)"
   ]
  },
  {
   "cell_type": "code",
   "execution_count": null,
   "id": "d8c25e7c-5ecd-4279-ab0e-3ecdb6e5a76a",
   "metadata": {},
   "outputs": [],
   "source": [
    "def test_minio_bucket(bucket_name):\n",
    "    try:\n",
    "        # List files in the bucket\n",
    "        files = spark.sparkContext._jsc.hadoopConfiguration().get(\"fs.s3a.impl\")\n",
    "        print(f\"S3A Implementation: {files}\")\n",
    "        \n",
    "        # Try to write a small test file\n",
    "        test_df.limit(1).write.mode(\"overwrite\").parquet(f\"s3a://{bucket_name}/test_file\")\n",
    "        print(f\"Successfully wrote test file to s3a://{bucket_name}/test_file\")\n",
    "        \n",
    "        return True\n",
    "    except Exception as e:\n",
    "        print(f\"Error testing bucket {bucket_name}: {str(e)}\")\n",
    "        return False\n",
    "\n",
    "# Test bucket connection\n",
    "bucket_name = \"lake\"\n",
    "test_minio_bucket(bucket_name)"
   ]
  },
  {
   "cell_type": "code",
   "execution_count": null,
   "id": "44edfe75-6671-49a6-8c59-14b995049aac",
   "metadata": {},
   "outputs": [],
   "source": [
    "# Test Parquet\n",
    "parquet_path = f\"s3a://{bucket_name}/parquet_test\"\n",
    "test_df.write.mode(\"overwrite\").parquet(parquet_path)\n",
    "parquet_df = spark.read.parquet(parquet_path)\n",
    "print(\"Parquet read/write test:\")\n",
    "parquet_df.show(5)"
   ]
  },
  {
   "cell_type": "code",
   "execution_count": null,
   "id": "7bf87143-b80f-4a7c-8faf-daed143c51ba",
   "metadata": {},
   "outputs": [],
   "source": [
    "# Test Delta Lake\n",
    "delta_path = f\"s3a://{bucket_name}/delta_test\"\n",
    "test_df.write.format(\"delta\").mode(\"overwrite\").save(delta_path)\n",
    "delta_df = spark.read.format(\"delta\").load(delta_path)\n",
    "print(\"Delta Lake read/write test:\")\n",
    "delta_df.show(5)"
   ]
  },
  {
   "cell_type": "code",
   "execution_count": null,
   "id": "22e703c8-6bfc-4d99-b213-cce5f7065fad",
   "metadata": {},
   "outputs": [],
   "source": [
    "# Test Data Consistency\n",
    "def verify_data_consistency(original_df, loaded_df, format_name):\n",
    "    original_count = original_df.count()\n",
    "    loaded_count = loaded_df.count()\n",
    "    print(f\"{format_name} Data Consistency Check:\")\n",
    "    print(f\"Original count: {original_count}\")\n",
    "    print(f\"Loaded count: {loaded_count}\")\n",
    "    print(f\"Counts match: {original_count == loaded_count}\")\n",
    "    \n",
    "    # Compare schemas\n",
    "    schema_match = original_df.schema == loaded_df.schema\n",
    "    print(f\"Schemas match: {schema_match}\")\n",
    "    \n",
    "    # Compare data distribution\n",
    "    original_stats = original_df.select(mean('value'), stddev('value')).collect()[0]\n",
    "    loaded_stats = loaded_df.select(mean('value'), stddev('value')).collect()[0]\n",
    "    print(f\"Original mean: {original_stats[0]:.2f}, std: {original_stats[1]:.2f}\")\n",
    "    print(f\"Loaded mean: {loaded_stats[0]:.2f}, std: {loaded_stats[1]:.2f}\")\n",
    "\n",
    "# Verify Parquet consistency\n",
    "verify_data_consistency(test_df, parquet_df, \"Parquet\")\n",
    "print(\"\\n\")\n",
    "# Verify Delta consistency\n",
    "verify_data_consistency(test_df, delta_df, \"Delta\")"
   ]
  },
  {
   "cell_type": "code",
   "execution_count": null,
   "id": "e785a671-89f8-4abe-adb1-473e2799e1a1",
   "metadata": {},
   "outputs": [],
   "source": [
    "# Register Delta table for SQL queries\n",
    "delta_df.createOrReplaceTempView(\"test_table\")\n",
    "\n",
    "# Perform some test queries\n",
    "print(\"Average value by category:\")\n",
    "spark.sql(\"\"\"\n",
    "    SELECT \n",
    "        category,\n",
    "        COUNT(*) as count,\n",
    "        AVG(value) as avg_value,\n",
    "        AVG(quantity) as avg_quantity\n",
    "    FROM test_table\n",
    "    GROUP BY category\n",
    "    ORDER BY category\n",
    "\"\"\").show()"
   ]
  },
  {
   "cell_type": "code",
   "execution_count": null,
   "id": "9c7714e3-aa53-4fe0-b41f-6a4773244a62",
   "metadata": {},
   "outputs": [],
   "source": [
    "# Function to clean up test data\n",
    "def cleanup_test_data():\n",
    "    from py4j.protocol import Py4JJavaError\n",
    "    \n",
    "    paths = [parquet_path, delta_path]\n",
    "    for path in paths:\n",
    "        try:\n",
    "            # Delete test data\n",
    "            spark.sparkContext._jsc.hadoopConfiguration().set(\"fs.s3a.impl\", \"org.apache.hadoop.fs.s3a.S3AFileSystem\")\n",
    "            hadoop_fs = spark._jvm.org.apache.hadoop.fs.FileSystem.get(spark._jsc.hadoopConfiguration())\n",
    "            hadoop_fs.delete(spark._jvm.org.apache.hadoop.fs.Path(path), True)\n",
    "            print(f\"Successfully deleted {path}\")\n",
    "        except Py4JJavaError as e:\n",
    "            print(f\"Error deleting {path}: {str(e)}\")\n",
    "\n",
    "# Uncomment to clean up test data\n",
    "# cleanup_test_data()"
   ]
  },
  {
   "cell_type": "code",
   "execution_count": null,
   "id": "da5cc4d0-ea51-4587-a4fa-10c36a7a1bf7",
   "metadata": {},
   "outputs": [],
   "source": [
    "spark.stop()"
   ]
  },
  {
   "cell_type": "code",
   "execution_count": null,
   "id": "14230ffa-19f9-4f81-b9c8-31e652217993",
   "metadata": {},
   "outputs": [],
   "source": []
  }
 ],
 "metadata": {
  "kernelspec": {
   "display_name": "Python 3 (ipykernel)",
   "language": "python",
   "name": "python3"
  },
  "language_info": {
   "codemirror_mode": {
    "name": "ipython",
    "version": 3
   },
   "file_extension": ".py",
   "mimetype": "text/x-python",
   "name": "python",
   "nbconvert_exporter": "python",
   "pygments_lexer": "ipython3",
   "version": "3.11.6"
  }
 },
 "nbformat": 4,
 "nbformat_minor": 5
}
